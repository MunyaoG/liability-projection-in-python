{
 "cells": [
  {
   "cell_type": "code",
   "execution_count": 4,
   "id": "838e9f64-2499-4f8b-8e4a-a54922d5daeb",
   "metadata": {},
   "outputs": [],
   "source": [
    "import pandas as pd"
   ]
  },
  {
   "cell_type": "code",
   "execution_count": 6,
   "id": "27c689c8-9aa3-4cf3-b0c5-7e616ed9a0fb",
   "metadata": {},
   "outputs": [],
   "source": [
    "import git"
   ]
  },
  {
   "cell_type": "code",
   "execution_count": 34,
   "id": "c1026d3a-fae5-488c-abcb-af1b7b72241f",
   "metadata": {},
   "outputs": [],
   "source": [
    "from git import Commit,  os, Repo"
   ]
  },
  {
   "cell_type": "code",
   "execution_count": null,
   "id": "62936c83-20aa-42b9-9594-04dc2fa27633",
   "metadata": {},
   "outputs": [],
   "source": [
    "git.Commit(repo='liability-projection-in-Python', message='Initial commit as a test')"
   ]
  },
  {
   "cell_type": "code",
   "execution_count": null,
   "id": "fd5d47d7-1a26-41a7-ba5a-f4718dfa1810",
   "metadata": {},
   "outputs": [],
   "source": [
    "join_path,"
   ]
  },
  {
   "cell_type": "code",
   "execution_count": 40,
   "id": "458d1174-313e-4b86-aa6a-46ba5a8be4b9",
   "metadata": {},
   "outputs": [
    {
     "data": {
      "text/plain": [
       "'C:\\\\Users\\\\kawen\\\\OneDrive\\\\Gertrude Projects\\\\Liability Projections\\\\liability-projection-in-Python\\\\bare-repo'"
      ]
     },
     "execution_count": 40,
     "metadata": {},
     "output_type": "execute_result"
    }
   ],
   "source": [
    "os.path.join(os.getcwd(), \"bare-repo\")"
   ]
  },
  {
   "cell_type": "code",
   "execution_count": 38,
   "id": "15e5d070-1c4c-4a44-9978-854cd2c04adc",
   "metadata": {},
   "outputs": [
    {
     "data": {
      "text/plain": [
       "'C:\\\\Users\\\\kawen\\\\OneDrive\\\\Gertrude Projects\\\\Liability Projections\\\\liability-projection-in-Python'"
      ]
     },
     "execution_count": 38,
     "metadata": {},
     "output_type": "execute_result"
    }
   ],
   "source": [
    "os.getcwd()"
   ]
  },
  {
   "cell_type": "code",
   "execution_count": 44,
   "id": "5dc943c8-dc05-44a2-94db-15cb16c33418",
   "metadata": {},
   "outputs": [],
   "source": [
    "repo = os.getcwd()"
   ]
  },
  {
   "cell_type": "code",
   "execution_count": 50,
   "id": "f3911bc6-c281-4ad1-a9ee-1fb581219739",
   "metadata": {},
   "outputs": [
    {
     "ename": "TypeError",
     "evalue": "object of type 'int' has no len()",
     "output_type": "error",
     "traceback": [
      "\u001b[1;31m---------------------------------------------------------------------------\u001b[0m",
      "\u001b[1;31mTypeError\u001b[0m                                 Traceback (most recent call last)",
      "Cell \u001b[1;32mIn[50], line 1\u001b[0m\n\u001b[1;32m----> 1\u001b[0m git\u001b[38;5;241m.\u001b[39mCommit(repo\u001b[38;5;241m=\u001b[39mrepo, message\u001b[38;5;241m=\u001b[39m\u001b[38;5;124m'\u001b[39m\u001b[38;5;124mInitial commit as a test\u001b[39m\u001b[38;5;124m'\u001b[39m, binsha\u001b[38;5;241m=\u001b[39m\u001b[38;5;241m20\u001b[39m)\n",
      "File \u001b[1;32m~\\anaconda3\\Lib\\site-packages\\git\\objects\\commit.py:146\u001b[0m, in \u001b[0;36mCommit.__init__\u001b[1;34m(self, repo, binsha, tree, author, authored_date, author_tz_offset, committer, committed_date, committer_tz_offset, message, parents, encoding, gpgsig)\u001b[0m\n\u001b[0;32m     96\u001b[0m \u001b[38;5;28;01mdef\u001b[39;00m \u001b[38;5;21m__init__\u001b[39m(\n\u001b[0;32m     97\u001b[0m     \u001b[38;5;28mself\u001b[39m,\n\u001b[0;32m     98\u001b[0m     repo: \u001b[38;5;124m\"\u001b[39m\u001b[38;5;124mRepo\u001b[39m\u001b[38;5;124m\"\u001b[39m,\n\u001b[1;32m   (...)\u001b[0m\n\u001b[0;32m    110\u001b[0m     gpgsig: Union[\u001b[38;5;28mstr\u001b[39m, \u001b[38;5;28;01mNone\u001b[39;00m] \u001b[38;5;241m=\u001b[39m \u001b[38;5;28;01mNone\u001b[39;00m,\n\u001b[0;32m    111\u001b[0m ) \u001b[38;5;241m-\u001b[39m\u001b[38;5;241m>\u001b[39m \u001b[38;5;28;01mNone\u001b[39;00m:\n\u001b[0;32m    112\u001b[0m \u001b[38;5;250m    \u001b[39m\u001b[38;5;124;03m\"\"\"Instantiate a new Commit. All keyword arguments taking None as default will\u001b[39;00m\n\u001b[0;32m    113\u001b[0m \u001b[38;5;124;03m    be implicitly set on first query.\u001b[39;00m\n\u001b[0;32m    114\u001b[0m \n\u001b[1;32m   (...)\u001b[0m\n\u001b[0;32m    144\u001b[0m \u001b[38;5;124;03m        as what time.altzone returns. The sign is inverted compared to git's\u001b[39;00m\n\u001b[0;32m    145\u001b[0m \u001b[38;5;124;03m        UTC timezone.\"\"\"\u001b[39;00m\n\u001b[1;32m--> 146\u001b[0m     \u001b[38;5;28msuper\u001b[39m(Commit, \u001b[38;5;28mself\u001b[39m)\u001b[38;5;241m.\u001b[39m\u001b[38;5;21m__init__\u001b[39m(repo, binsha)\n\u001b[0;32m    147\u001b[0m     \u001b[38;5;28mself\u001b[39m\u001b[38;5;241m.\u001b[39mbinsha \u001b[38;5;241m=\u001b[39m binsha\n\u001b[0;32m    148\u001b[0m     \u001b[38;5;28;01mif\u001b[39;00m tree \u001b[38;5;129;01mis\u001b[39;00m \u001b[38;5;129;01mnot\u001b[39;00m \u001b[38;5;28;01mNone\u001b[39;00m:\n",
      "File \u001b[1;32m~\\anaconda3\\Lib\\site-packages\\git\\objects\\base.py:66\u001b[0m, in \u001b[0;36mObject.__init__\u001b[1;34m(self, repo, binsha)\u001b[0m\n\u001b[0;32m     64\u001b[0m \u001b[38;5;28mself\u001b[39m\u001b[38;5;241m.\u001b[39mrepo \u001b[38;5;241m=\u001b[39m repo\n\u001b[0;32m     65\u001b[0m \u001b[38;5;28mself\u001b[39m\u001b[38;5;241m.\u001b[39mbinsha \u001b[38;5;241m=\u001b[39m binsha\n\u001b[1;32m---> 66\u001b[0m \u001b[38;5;28;01massert\u001b[39;00m \u001b[38;5;28mlen\u001b[39m(binsha) \u001b[38;5;241m==\u001b[39m \u001b[38;5;241m20\u001b[39m, \u001b[38;5;124m\"\u001b[39m\u001b[38;5;124mRequire 20 byte binary sha, got \u001b[39m\u001b[38;5;132;01m%r\u001b[39;00m\u001b[38;5;124m, len = \u001b[39m\u001b[38;5;132;01m%i\u001b[39;00m\u001b[38;5;124m\"\u001b[39m \u001b[38;5;241m%\u001b[39m (\n\u001b[0;32m     67\u001b[0m     binsha,\n\u001b[0;32m     68\u001b[0m     \u001b[38;5;28mlen\u001b[39m(binsha),\n\u001b[0;32m     69\u001b[0m )\n",
      "\u001b[1;31mTypeError\u001b[0m: object of type 'int' has no len()"
     ]
    }
   ],
   "source": [
    "git.Commit(repo=repo, message='Initial commit as a test', binsha=20)"
   ]
  },
  {
   "cell_type": "code",
   "execution_count": 48,
   "id": "93d259b9-c36e-4ad5-bd19-27e7712569c0",
   "metadata": {},
   "outputs": [
    {
     "data": {
      "text/plain": [
       "\u001b[1;31mInit signature:\u001b[0m\n",
       "\u001b[0mgit\u001b[0m\u001b[1;33m.\u001b[0m\u001b[0mCommit\u001b[0m\u001b[1;33m(\u001b[0m\u001b[1;33m\n",
       "\u001b[0m    \u001b[0mrepo\u001b[0m\u001b[1;33m:\u001b[0m \u001b[1;34m'Repo'\u001b[0m\u001b[1;33m,\u001b[0m\u001b[1;33m\n",
       "\u001b[0m    \u001b[0mbinsha\u001b[0m\u001b[1;33m:\u001b[0m \u001b[0mbytes\u001b[0m\u001b[1;33m,\u001b[0m\u001b[1;33m\n",
       "\u001b[0m    \u001b[0mtree\u001b[0m\u001b[1;33m:\u001b[0m \u001b[0mOptional\u001b[0m\u001b[1;33m[\u001b[0m\u001b[0mgit\u001b[0m\u001b[1;33m.\u001b[0m\u001b[0mobjects\u001b[0m\u001b[1;33m.\u001b[0m\u001b[0mtree\u001b[0m\u001b[1;33m.\u001b[0m\u001b[0mTree\u001b[0m\u001b[1;33m]\u001b[0m \u001b[1;33m=\u001b[0m \u001b[1;32mNone\u001b[0m\u001b[1;33m,\u001b[0m\u001b[1;33m\n",
       "\u001b[0m    \u001b[0mauthor\u001b[0m\u001b[1;33m:\u001b[0m \u001b[0mOptional\u001b[0m\u001b[1;33m[\u001b[0m\u001b[0mgit\u001b[0m\u001b[1;33m.\u001b[0m\u001b[0mutil\u001b[0m\u001b[1;33m.\u001b[0m\u001b[0mActor\u001b[0m\u001b[1;33m]\u001b[0m \u001b[1;33m=\u001b[0m \u001b[1;32mNone\u001b[0m\u001b[1;33m,\u001b[0m\u001b[1;33m\n",
       "\u001b[0m    \u001b[0mauthored_date\u001b[0m\u001b[1;33m:\u001b[0m \u001b[0mOptional\u001b[0m\u001b[1;33m[\u001b[0m\u001b[0mint\u001b[0m\u001b[1;33m]\u001b[0m \u001b[1;33m=\u001b[0m \u001b[1;32mNone\u001b[0m\u001b[1;33m,\u001b[0m\u001b[1;33m\n",
       "\u001b[0m    \u001b[0mauthor_tz_offset\u001b[0m\u001b[1;33m:\u001b[0m \u001b[0mOptional\u001b[0m\u001b[1;33m[\u001b[0m\u001b[0mfloat\u001b[0m\u001b[1;33m]\u001b[0m \u001b[1;33m=\u001b[0m \u001b[1;32mNone\u001b[0m\u001b[1;33m,\u001b[0m\u001b[1;33m\n",
       "\u001b[0m    \u001b[0mcommitter\u001b[0m\u001b[1;33m:\u001b[0m \u001b[0mOptional\u001b[0m\u001b[1;33m[\u001b[0m\u001b[0mgit\u001b[0m\u001b[1;33m.\u001b[0m\u001b[0mutil\u001b[0m\u001b[1;33m.\u001b[0m\u001b[0mActor\u001b[0m\u001b[1;33m]\u001b[0m \u001b[1;33m=\u001b[0m \u001b[1;32mNone\u001b[0m\u001b[1;33m,\u001b[0m\u001b[1;33m\n",
       "\u001b[0m    \u001b[0mcommitted_date\u001b[0m\u001b[1;33m:\u001b[0m \u001b[0mOptional\u001b[0m\u001b[1;33m[\u001b[0m\u001b[0mint\u001b[0m\u001b[1;33m]\u001b[0m \u001b[1;33m=\u001b[0m \u001b[1;32mNone\u001b[0m\u001b[1;33m,\u001b[0m\u001b[1;33m\n",
       "\u001b[0m    \u001b[0mcommitter_tz_offset\u001b[0m\u001b[1;33m:\u001b[0m \u001b[0mOptional\u001b[0m\u001b[1;33m[\u001b[0m\u001b[0mfloat\u001b[0m\u001b[1;33m]\u001b[0m \u001b[1;33m=\u001b[0m \u001b[1;32mNone\u001b[0m\u001b[1;33m,\u001b[0m\u001b[1;33m\n",
       "\u001b[0m    \u001b[0mmessage\u001b[0m\u001b[1;33m:\u001b[0m \u001b[0mUnion\u001b[0m\u001b[1;33m[\u001b[0m\u001b[0mstr\u001b[0m\u001b[1;33m,\u001b[0m \u001b[0mbytes\u001b[0m\u001b[1;33m,\u001b[0m \u001b[0mNoneType\u001b[0m\u001b[1;33m]\u001b[0m \u001b[1;33m=\u001b[0m \u001b[1;32mNone\u001b[0m\u001b[1;33m,\u001b[0m\u001b[1;33m\n",
       "\u001b[0m    \u001b[0mparents\u001b[0m\u001b[1;33m:\u001b[0m \u001b[0mOptional\u001b[0m\u001b[1;33m[\u001b[0m\u001b[0mSequence\u001b[0m\u001b[1;33m[\u001b[0m\u001b[0mForwardRef\u001b[0m\u001b[1;33m(\u001b[0m\u001b[1;34m'Commit'\u001b[0m\u001b[1;33m)\u001b[0m\u001b[1;33m]\u001b[0m\u001b[1;33m]\u001b[0m \u001b[1;33m=\u001b[0m \u001b[1;32mNone\u001b[0m\u001b[1;33m,\u001b[0m\u001b[1;33m\n",
       "\u001b[0m    \u001b[0mencoding\u001b[0m\u001b[1;33m:\u001b[0m \u001b[0mOptional\u001b[0m\u001b[1;33m[\u001b[0m\u001b[0mstr\u001b[0m\u001b[1;33m]\u001b[0m \u001b[1;33m=\u001b[0m \u001b[1;32mNone\u001b[0m\u001b[1;33m,\u001b[0m\u001b[1;33m\n",
       "\u001b[0m    \u001b[0mgpgsig\u001b[0m\u001b[1;33m:\u001b[0m \u001b[0mOptional\u001b[0m\u001b[1;33m[\u001b[0m\u001b[0mstr\u001b[0m\u001b[1;33m]\u001b[0m \u001b[1;33m=\u001b[0m \u001b[1;32mNone\u001b[0m\u001b[1;33m,\u001b[0m\u001b[1;33m\n",
       "\u001b[0m\u001b[1;33m)\u001b[0m \u001b[1;33m->\u001b[0m \u001b[1;32mNone\u001b[0m\u001b[1;33m\u001b[0m\u001b[1;33m\u001b[0m\u001b[0m\n",
       "\u001b[1;31mDocstring:\u001b[0m     \n",
       "Wraps a git Commit object.\n",
       "\n",
       "This class will act lazily on some of its attributes and will query the\n",
       "value on demand only if it involves calling the git binary.\n",
       "\u001b[1;31mInit docstring:\u001b[0m\n",
       "Instantiate a new Commit. All keyword arguments taking None as default will\n",
       "be implicitly set on first query.\n",
       "\n",
       ":param binsha: 20 byte sha1\n",
       ":param parents: tuple( Commit, ... )\n",
       "    is a tuple of commit ids or actual Commits\n",
       ":param tree: Tree object\n",
       ":param author: Actor\n",
       "    is the author Actor object\n",
       ":param authored_date: int_seconds_since_epoch\n",
       "    is the authored DateTime - use time.gmtime() to convert it into a\n",
       "    different format\n",
       ":param author_tz_offset: int_seconds_west_of_utc\n",
       "    is the timezone that the authored_date is in\n",
       ":param committer: Actor\n",
       "    is the committer string\n",
       ":param committed_date: int_seconds_since_epoch\n",
       "    is the committed DateTime - use time.gmtime() to convert it into a\n",
       "    different format\n",
       ":param committer_tz_offset: int_seconds_west_of_utc\n",
       "    is the timezone that the committed_date is in\n",
       ":param message: string\n",
       "    is the commit message\n",
       ":param encoding: string\n",
       "    encoding of the message, defaults to UTF-8\n",
       ":param parents:\n",
       "    List or tuple of Commit objects which are our parent(s) in the commit\n",
       "    dependency graph\n",
       ":return: git.Commit\n",
       "\n",
       ":note:\n",
       "    Timezone information is in the same format and in the same sign\n",
       "    as what time.altzone returns. The sign is inverted compared to git's\n",
       "    UTC timezone.\n",
       "\u001b[1;31mFile:\u001b[0m           c:\\users\\kawen\\anaconda3\\lib\\site-packages\\git\\objects\\commit.py\n",
       "\u001b[1;31mType:\u001b[0m           _ProtocolMeta\n",
       "\u001b[1;31mSubclasses:\u001b[0m     "
      ]
     },
     "metadata": {},
     "output_type": "display_data"
    }
   ],
   "source": [
    "git.Commit?"
   ]
  },
  {
   "cell_type": "code",
   "execution_count": null,
   "id": "85dec3ae-71f8-4034-97f3-ea2aee622984",
   "metadata": {},
   "outputs": [],
   "source": []
  },
  {
   "cell_type": "code",
   "execution_count": null,
   "id": "2e99aa5e-9bff-407f-a588-38f1232bcd65",
   "metadata": {},
   "outputs": [],
   "source": []
  },
  {
   "cell_type": "code",
   "execution_count": null,
   "id": "cf93a184-cde1-4538-9122-239a2d2cc812",
   "metadata": {},
   "outputs": [],
   "source": []
  },
  {
   "cell_type": "code",
   "execution_count": null,
   "id": "11cd5679-3e67-4aa8-8de1-dce6ee8887f0",
   "metadata": {},
   "outputs": [],
   "source": []
  },
  {
   "cell_type": "code",
   "execution_count": null,
   "id": "a6369705-4611-41de-a8cb-e033efaa4a34",
   "metadata": {},
   "outputs": [],
   "source": []
  }
 ],
 "metadata": {
  "kernelspec": {
   "display_name": "Python 3 (ipykernel)",
   "language": "python",
   "name": "python3"
  },
  "language_info": {
   "codemirror_mode": {
    "name": "ipython",
    "version": 3
   },
   "file_extension": ".py",
   "mimetype": "text/x-python",
   "name": "python",
   "nbconvert_exporter": "python",
   "pygments_lexer": "ipython3",
   "version": "3.11.7"
  }
 },
 "nbformat": 4,
 "nbformat_minor": 5
}
